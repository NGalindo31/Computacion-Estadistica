{
  "nbformat": 4,
  "nbformat_minor": 0,
  "metadata": {
    "colab": {
      "name": "Clase#3_CE_Completa.ipynb",
      "provenance": []
    },
    "kernelspec": {
      "name": "python3",
      "display_name": "Python 3"
    },
    "language_info": {
      "name": "python"
    }
  },
  "cells": [
    {
      "cell_type": "markdown",
      "source": [
        "# Segunda Clase Computación Estadística\n",
        "\n",
        "## Nicolas Galindo Ramirez - 1022409637\n",
        "\n",
        " #### - Llevar a codigo funcional las siguientes funciones:\n",
        "\n",
        "1). $Y_1=log(x)$\n",
        "\n",
        "2). $Y_2=log(\\sqrt x)$\n",
        "\n",
        "3). $Y_3=log(\\sqrt {x^2-1})$\n",
        "\n",
        "4). $Y_4=\\frac{log(\\sqrt {x-1})}{x^2+1}$\n",
        "\n",
        "5). $Y_5=\\frac{x-1}{log(x)}$\n",
        "\n",
        "6). $Y_6=\\frac{1}{x}+\\sqrt{x-1}$\n",
        "\n",
        "7). $Y_7=\\frac{1}{x}+\\sqrt{x-1}-\\frac{1}{log(\\frac{1}{x+1})}$\n",
        "\n",
        "8). $Y_8=\\frac{2}{x^2+1}$\n",
        "\n",
        "9). $Y_9=\\frac{1}{n}\\sum_{i=1}^n x_i$\n",
        "\n",
        " 10). $Y_{10}=\\frac{1}{n-1}\\sum_{i=1}^n(x_i-\\bar{x})^2$\n",
        "\n",
        " 11). $Y_{11}=\\frac{\\sqrt {y_{10}}}{y_9}$"
      ],
      "metadata": {
        "id": "_KgY_W-IbJ1d"
      }
    },
    {
      "cell_type": "code",
      "execution_count": null,
      "metadata": {
        "id": "wDKkMImmkt0S",
        "colab": {
          "base_uri": "https://localhost:8080/"
        },
        "outputId": "ac005a7e-22db-41c6-a454-79290b433954"
      },
      "outputs": [
        {
          "output_type": "stream",
          "name": "stdout",
          "text": [
            "Ingrese un valor X: 20\n",
            "Y es: 1.301029995663981\n"
          ]
        }
      ],
      "source": [
        "#1). \n",
        "\n",
        "import math\n",
        "from math import log\n",
        "\n",
        "x1 = float(input('Ingrese un valor X: '))\n",
        "if x1>0:\n",
        "  y1 = log(x1, 10)\n",
        "  print(f'Y es: {y1}')\n",
        "else: \n",
        "  print('Fuera del dominio de y')"
      ]
    },
    {
      "cell_type": "code",
      "source": [
        "#2). \n",
        "\n",
        "import math\n",
        "from math import log\n",
        "from math import sqrt\n",
        "\n",
        "x2 = float(input('Ingrese un valor X: '))\n",
        "if x2>0:\n",
        "  y2 = log(sqrt(x),10)\n",
        "  print(f'Y es: {y2}')\n",
        "else: \n",
        "  print('Fuera del dominio de y')"
      ],
      "metadata": {
        "colab": {
          "base_uri": "https://localhost:8080/"
        },
        "id": "072MLAnRk6Hi",
        "outputId": "8c729185-1dfb-4c51-cfb0-02a590ae14d1"
      },
      "execution_count": null,
      "outputs": [
        {
          "output_type": "stream",
          "name": "stdout",
          "text": [
            "Ingrese un valor X: 4\n",
            "Y es: 0.30102999566398114\n"
          ]
        }
      ]
    },
    {
      "cell_type": "code",
      "source": [
        "#3). \n",
        "\n",
        "import math\n",
        "from math import log\n",
        "from math import sqrt\n",
        "\n",
        "x3 = float(input('Ingrese un valor X: '))\n",
        "if (x3>1) or (x3<-1):\n",
        "  y3 = log(sqrt(x3**2 -1),10)\n",
        "  print(f'Y es: {y3}')\n",
        "else: \n",
        "  print('Fuera del dominio de y')"
      ],
      "metadata": {
        "colab": {
          "base_uri": "https://localhost:8080/"
        },
        "id": "zPPSfMhQnmJq",
        "outputId": "b5840dd9-02eb-419a-fe44-79f85404df7b"
      },
      "execution_count": null,
      "outputs": [
        {
          "output_type": "stream",
          "name": "stdout",
          "text": [
            "Ingrese un valor X: -2\n",
            "Y es: 0.23856062735983116\n"
          ]
        }
      ]
    },
    {
      "cell_type": "code",
      "source": [
        "#4). \n",
        "\n",
        "import math\n",
        "from math import log\n",
        "from math import sqrt\n",
        "\n",
        "x4 = float(input('Ingrese un valor X: '))\n",
        "if (x4>1):\n",
        "  y4 = log((sqrt(x4-1)),10) / (x4**2 +1)\n",
        "  print(f'Y es: {y4}')\n",
        "else: \n",
        "  print('Fuera del dominio de y')"
      ],
      "metadata": {
        "colab": {
          "base_uri": "https://localhost:8080/"
        },
        "id": "G4pIWVQVqnuc",
        "outputId": "79a3023e-bd5a-48f6-c92a-2f7fe4ba371d"
      },
      "execution_count": null,
      "outputs": [
        {
          "output_type": "stream",
          "name": "stdout",
          "text": [
            "Ingrese un valor X: 5\n",
            "Y es: 0.011578076756306966\n"
          ]
        }
      ]
    },
    {
      "cell_type": "code",
      "source": [
        "#5). \n",
        "\n",
        "import math\n",
        "from math import log\n",
        "from math import sqrt\n",
        "\n",
        "x5 = float(input('Ingrese un valor X: '))\n",
        "if (0<x5<1) or (x5>1):\n",
        "  y5 =   (x5-1) / log(x5,10)\n",
        "  print(f'Y es: {y5}')\n",
        "else: \n",
        "  print('Fuera del dominio de y')"
      ],
      "metadata": {
        "colab": {
          "base_uri": "https://localhost:8080/"
        },
        "id": "WQnFayvBtJbw",
        "outputId": "b7b42add-8b54-4991-e662-218a8c906b86"
      },
      "execution_count": null,
      "outputs": [
        {
          "output_type": "stream",
          "name": "stdout",
          "text": [
            "Ingrese un valor X: 0.5\n",
            "Y es: 1.6609640474436815\n"
          ]
        }
      ]
    },
    {
      "cell_type": "code",
      "source": [
        "#6). \n",
        "\n",
        "import math\n",
        "from math import log\n",
        "from math import sqrt\n",
        "\n",
        "x6 = float(input('Ingrese un valor X: '))\n",
        "if (x6>=1):\n",
        "  y6 = (1/x6) +sqrt(x6-1)\n",
        "  print(f'Y es: {y6}')\n",
        "else: \n",
        "  print('Fuera del dominio de y')"
      ],
      "metadata": {
        "colab": {
          "base_uri": "https://localhost:8080/"
        },
        "id": "RJ7tyiZdusJR",
        "outputId": "1face0d1-e69d-4369-8f16-27d84c45d5b2"
      },
      "execution_count": null,
      "outputs": [
        {
          "output_type": "stream",
          "name": "stdout",
          "text": [
            "Ingrese un valor X: 1\n",
            "Y es: 1.0\n"
          ]
        }
      ]
    },
    {
      "cell_type": "code",
      "source": [
        "#7). \n",
        "\n",
        "import math\n",
        "from math import log\n",
        "from math import sqrt\n",
        "\n",
        "x7 = float(input('Ingrese un valor X: '))\n",
        "if (x7>=1):\n",
        "  y7 = (1/x7) + sqrt(x7-1) - log((1)/(x7+1))\n",
        "  print(f'Y es: {y7}')\n",
        "else: \n",
        "  print('Fuera del dominio de y')"
      ],
      "metadata": {
        "colab": {
          "base_uri": "https://localhost:8080/"
        },
        "id": "dOo1BOtNv28p",
        "outputId": "3763f21c-666e-47e7-f87b-9290e03d3b92"
      },
      "execution_count": null,
      "outputs": [
        {
          "output_type": "stream",
          "name": "stdout",
          "text": [
            "Ingrese un valor X: 10\n",
            "Y es: 5.49789527279837\n"
          ]
        }
      ]
    },
    {
      "cell_type": "code",
      "source": [
        "#8). \n",
        "\n",
        "import math\n",
        "from math import log\n",
        "from math import sqrt\n",
        "\n",
        "x8 = float(input('Ingrese un valor X: '))\n",
        "y8 = 2 / (x8**2 +1)\n",
        "print(f'Y es: {y8}')"
      ],
      "metadata": {
        "colab": {
          "base_uri": "https://localhost:8080/"
        },
        "id": "B1pCko8dwnBv",
        "outputId": "fc69c4bb-8a6c-4204-b959-e2ffd8a4e6b9"
      },
      "execution_count": null,
      "outputs": [
        {
          "output_type": "stream",
          "name": "stdout",
          "text": [
            "Ingrese un valor X: -6\n",
            "Y es: 0.05405405405405406\n"
          ]
        }
      ]
    },
    {
      "cell_type": "code",
      "source": [
        "#9 y 10).  Media y Varianza \n",
        "\n",
        "import statistics\n",
        "\n",
        "nums = []\n",
        "print('¿Cuantos numeros quiere ingresar?')\n",
        "n = int(input())\n",
        "i = 0\n",
        "while i < n:\n",
        "  print('Valor numero:', i+1)\n",
        "  var = float(input())\n",
        "  nums.append(var)\n",
        "  i+=1\n",
        "\n",
        "prom = statistics.mean(nums)\n",
        "print('El promedio es: ', prom)\n",
        "\n",
        "vari = statistics.variance(nums)\n",
        "print('La varianza es: ', vari)"
      ],
      "metadata": {
        "id": "NBO12u-Ox2r7",
        "colab": {
          "base_uri": "https://localhost:8080/"
        },
        "outputId": "6567cbda-c257-4b3b-9fbc-04dc3b585c22"
      },
      "execution_count": null,
      "outputs": [
        {
          "output_type": "stream",
          "name": "stdout",
          "text": [
            "¿Cuantos numeros quiere ingresar?\n",
            "5\n",
            "Valor numero: 1\n",
            "3\n",
            "Valor numero: 2\n",
            "5\n",
            "Valor numero: 3\n",
            "4\n",
            "Valor numero: 4\n",
            "4\n",
            "Valor numero: 5\n",
            "3.5\n",
            "El promedio es:  3.9\n",
            "La varianza es:  0.55\n"
          ]
        }
      ]
    },
    {
      "cell_type": "code",
      "source": [
        "# 11).\n",
        "import math\n",
        "from math import sqrt\n",
        "\n",
        "y11 = sqrt(vari) / prom\n",
        "print('Y11 es:', y11)"
      ],
      "metadata": {
        "colab": {
          "base_uri": "https://localhost:8080/"
        },
        "id": "AnHVzG_RajCD",
        "outputId": "2b5ccc6e-40d2-48cd-b22b-a99bde4c00ac"
      },
      "execution_count": null,
      "outputs": [
        {
          "output_type": "stream",
          "name": "stdout",
          "text": [
            "Y11 es: 0.19015893556655547\n"
          ]
        }
      ]
    },
    {
      "cell_type": "markdown",
      "source": [
        "2). Construya una funcion que returne la varianza de un conjunto de datos (n ≥ 2) cuando se va incorporando dato a dato. Use como primer par de datos los que se generan de la distribucion normal con μ = 3 y s = 0,3.Use la misma semilla y los mismos par ́ametros de la distribuci ́on para incorporar cada dato. Haga el proceso 50 veces y luego grafique la varianza como funcion de n."
      ],
      "metadata": {
        "id": "ACOkmfGUoKcd"
      }
    },
    {
      "cell_type": "code",
      "source": [
        "import math\n",
        "import numpy \n",
        "import random\n",
        "import matplotlib.pyplot as plt\n",
        "def variance(n):\n",
        "  var2 = numpy.random.normal(3,0.3,2)\n",
        "  list_var = [var2[0], var2[1]]\n",
        "  list_n = numpy.random.normal(3,0.3,n)\n",
        "  for i in range(n):\n",
        "    list_var.append(list_n[i])\n",
        "    print(numpy.var(list_var))\n",
        "  import matplotlib.pyplot as plt\n",
        "  plt.plot(list_var, range(n+2), 'pr')\n",
        "  plt.xlabel('Varianza')\n",
        "  plt.ylabel('N')\n",
        "  plt.show()\n",
        "variance(50)"
      ],
      "metadata": {
        "colab": {
          "base_uri": "https://localhost:8080/",
          "height": 1000
        },
        "id": "QDcDSYh5rT-K",
        "outputId": "39ff1852-ecc3-4db2-8284-48833c6eaacb"
      },
      "execution_count": 18,
      "outputs": [
        {
          "output_type": "stream",
          "name": "stdout",
          "text": [
            "0.017813608422902666\n",
            "0.03563000429823668\n",
            "0.04518207084285579\n",
            "0.038662534201068556\n",
            "0.039738710799864733\n",
            "0.03648227571885514\n",
            "0.04831462933683031\n",
            "0.04499389409579813\n",
            "0.04116845302899833\n",
            "0.05301197735085461\n",
            "0.04897259897376534\n",
            "0.049468276097746525\n",
            "0.05964741196249739\n",
            "0.0888466088432816\n",
            "0.08457177756391773\n",
            "0.08196017376061199\n",
            "0.07940849978511681\n",
            "0.07602507001623894\n",
            "0.07545158312309122\n",
            "0.07202243494311039\n",
            "0.06889347426985196\n",
            "0.06768590435992372\n",
            "0.07009931227969844\n",
            "0.06740516049259321\n",
            "0.06994433725817384\n",
            "0.07024551687652461\n",
            "0.06926085065946036\n",
            "0.06717224152355288\n",
            "0.08540845729411903\n",
            "0.08509585870729822\n",
            "0.08306069437791422\n",
            "0.08141407882332521\n",
            "0.07984583674099648\n",
            "0.07792168129356167\n",
            "0.07836678236621843\n",
            "0.07771566442884714\n",
            "0.07601550363478966\n",
            "0.07434373808792276\n",
            "0.07322910376290381\n",
            "0.07243721569931816\n",
            "0.07129801700058992\n",
            "0.07706812277200858\n",
            "0.07554648924341678\n",
            "0.07473942025549538\n",
            "0.07571911377876689\n",
            "0.07755911963156535\n",
            "0.0766084774103728\n",
            "0.0761139655856957\n",
            "0.0826012489403508\n",
            "0.08115708737654106\n"
          ]
        },
        {
          "output_type": "display_data",
          "data": {
            "text/plain": [
              "<Figure size 432x288 with 1 Axes>"
            ],
            "image/png": "[encoded data removed]"
          },
          "metadata": {
            "needs_background": "light"
          }
        }
      ]
    },
    {
      "cell_type": "markdown",
      "source": [
        "3). La cantidad de radiacion absorbida puede medirse por la transmitancia. La relacion entre transmitancia (T) y absorbancia (A) esta dada por la ley Beer-\n",
        "Lambert (ley de Beer). Cree una funci ́on para la expresion que aparece en https://www.electrical4u.com/what−is−transmittance/ y genere unos datos\n",
        "de T para determinar A. Grafique la funcion. Finalmente lea la seccion titulada: ✭✭Why is Absorbance the Preferred Unit Over Transmittance?✮✮"
      ],
      "metadata": {
        "id": "1FJEMJkTsSFN"
      }
    },
    {
      "cell_type": "code",
      "source": [
        "import numpy\n",
        "import matplotlib.pyplot as plt\n",
        "import math\n",
        "def absorbance(T, *args, **kwargs):\n",
        "    if str(type(T))[8:12] != 'list':\n",
        "        return f'ingresar lista de transmitancias'\n",
        "    else:\n",
        "        transmittance = []\n",
        "        absorbance = []\n",
        "        for i in range(len(T)):\n",
        "            transmittance.append(T[i])\n",
        "            A = 2 - math.log10(T[i])\n",
        "            absorbance.append(A)\n",
        "        plt.plot(absorbance, transmittance, 'pr') \n",
        "        plt.title('Absorbancia vs Transmitancia')  \n",
        "        plt.xlabel('Absorbancia')\n",
        "        plt.ylabel('Trasmitancia') \n",
        "        plt.show()\n",
        "import numpy\n",
        "T = numpy.random.uniform(50,100,100)\n",
        "absorbance(T =list(T))"
      ],
      "metadata": {
        "colab": {
          "base_uri": "https://localhost:8080/",
          "height": 295
        },
        "id": "NTHwWjA0s1WK",
        "outputId": "90f91d7b-1e6f-49ca-e90c-cba7b491afbb"
      },
      "execution_count": 20,
      "outputs": [
        {
          "output_type": "display_data",
          "data": {
            "text/plain": [
              "<Figure size 432x288 with 1 Axes>"
            ],
            "image/png": "[encoded data removed]"
          },
          "metadata": {
            "needs_background": "light"
          }
        }
      ]
    }
  ]
}