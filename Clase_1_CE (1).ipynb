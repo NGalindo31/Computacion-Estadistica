{
  "nbformat": 4,
  "nbformat_minor": 0,
  "metadata": {
    "colab": {
      "name": "Clase#1_CE.ipynb",
      "provenance": []
    },
    "kernelspec": {
      "name": "python3",
      "display_name": "Python 3"
    },
    "language_info": {
      "name": "python"
    }
  },
  "cells": [
    {
      "cell_type": "markdown",
      "source": [
        "# Primera Clase Computación Estadística\n",
        "\n",
        "## Nicolas Galindo Ramirez - 1022409637\n",
        "\n",
        " - Cargar archivo de excel:\n"
      ],
      "metadata": {
        "id": "l8wX-3HsvN1T"
      }
    },
    {
      "cell_type": "code",
      "source": [
        "ruta_archivo='/content/Formato_GR_Feijoa (1).xlsx'\n",
        "'/content/drive/MyDrive/Manejo integrado G8/Feijoa/Formato_GR_Feijoa.xlsx'"
      ],
      "metadata": {
        "id": "NHmZAuUmv4DZ",
        "colab": {
          "base_uri": "https://localhost:8080/",
          "height": 35
        },
        "outputId": "c78264b1-1595-4997-c033-20f6b922b177"
      },
      "execution_count": 5,
      "outputs": [
        {
          "output_type": "execute_result",
          "data": {
            "text/plain": [
              "'/content/drive/MyDrive/Manejo integrado G8/Feijoa/Formato_GR_Feijoa.xlsx'"
            ],
            "application/vnd.google.colaboratory.intrinsic+json": {
              "type": "string"
            }
          },
          "metadata": {},
          "execution_count": 5
        }
      ]
    },
    {
      "cell_type": "markdown",
      "source": [
        " - Cargar imagen desde Internet:\n",
        "\n",
        "![](data:image/jpeg;base64,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)"
      ],
      "metadata": {
        "id": "q1tDqse8DUQp"
      }
    },
    {
      "cell_type": "markdown",
      "source": [
        " - Matriz 4x4 en $\\LaTeX$:\n",
        "\n",
        "$$\\begin{bmatrix}\n",
        "2^3{X} & Y^{β} & Z\\frac{Z}{4} & 3^{W} \\\\\n",
        "-5^{X} & 7^5{Y} & Z^{β} & W\\frac{3}{4} \\\\\n",
        "-7\\frac{5}{X} & Y^{10} & -10^3{Z} & W^{β} \\\\\n",
        "X^{β} & Y\\frac{Y}{4} & -Z^{Z} & 2^3{X} \\\\\n",
        "\\end{bmatrix}$$\n"
      ],
      "metadata": {
        "id": "ojcUMQfU1AWs"
      }
    },
    {
      "cell_type": "markdown",
      "source": [
        "- Tabla en $\\LaTeX$:\n",
        "\n",
        "$$\\begin{array}{|c|c|} \\hline\n",
        "Muestreo & Patógeno & Incidencia & Severidad \\\\ \\hline\n",
        "1 & Botrytis spp & 5\\% & 3\\% \\\\\n",
        "2 & Septoria spp. & 15\\% & 10\\% \\\\\n",
        "3 & Ascochyta spp & 3\\% & 7\\% \\\\ \\hline\n",
        "\\end{array}$$\n"
      ],
      "metadata": {
        "id": "gF9SWBwj-WM4"
      }
    },
    {
      "cell_type": "markdown",
      "source": [
        "- Ecuación de Intervalo de Proporción en $\\LaTeX$:\n",
        "\n",
        "$$\\bar{\\rho} \\, \\pm \\, Z_{\\alpha/2}*\\sqrt{\\frac{\\bar{\\rho}(1-\\bar{\\rho})}{n}}$$"
      ],
      "metadata": {
        "id": "93eOK6k-5GCP"
      }
    }
  ]
}